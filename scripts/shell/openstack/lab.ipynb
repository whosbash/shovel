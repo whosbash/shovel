{
 "cells": [
  {
   "cell_type": "code",
   "execution_count": 8,
   "metadata": {},
   "outputs": [
    {
     "name": "stdout",
     "output_type": "stream",
     "text": [
      "######################################### BEGIN OF CONSTANTS #######################################\n",
      "########################################## END OF CONSTANTS ########################################\n",
      "################################ BEGIN OF GENERAL UTILITARY FUNCTIONS ##############################\n",
      "################################# END OF GENERAL UTILITARY FUNCTIONS ###############################\n",
      "############################### BEGIN OF GENERAL DEPLOYMENT FUNCTIONS ##############################\n",
      "################################ END OF GENERAL DEPLOYMENT FUNCTIONS ###############################\n",
      "################################ BEGIN OF STACK DEPLOYMENT FUNCTIONS ###############################\n",
      "################################# END OF STACK DEPLOYMENT FUNCTIONS ################################\n",
      "################################## BEGIN OF CONFIGURATION VARIABLE #################################\n",
      "################################### END OF CONFIGURATION VARIABLE ##################################\n",
      "####################################### BEGIN OF COMPOSE FILES #####################################\n",
      "######################################## END OF COMPOSE FILES ######################################\n",
      "###################################### BEGIN OF SETUP FUNCTIONS ####################################\n",
      "####################################### END OF SETUP FUNCTIONS #####################################\n"
     ]
    }
   ],
   "source": [
    "def generate_custom_strings(size, separator, label):\n",
    "    # Ensure that the label fits within the specified size\n",
    "    label_prefix = \"BEGIN OF \"\n",
    "    label_suffix = \"END OF \"\n",
    "    max_label_size = size - len(label_prefix) - len(label_suffix) - 4  # Account for spaces and padding\n",
    "\n",
    "    # If the label is too long, truncate it to fit\n",
    "    truncated_label = label[:max_label_size] if len(label) > max_label_size else label\n",
    "\n",
    "    # Calculate padding for centering\n",
    "    begin_label = f\"BEGIN OF {truncated_label}\"\n",
    "    end_label = f\"END OF {truncated_label}\"\n",
    "    \n",
    "    begin_padding = (size - len(begin_label)) // 2\n",
    "    end_padding = (size - len(end_label)) // 2\n",
    "\n",
    "    # Ensure padding is correct to avoid overflow\n",
    "    begin_string = f\"{separator * begin_padding} {begin_label} {separator * begin_padding}\"\n",
    "    end_string = f\"{separator * end_padding} {end_label} {separator * end_padding}\"\n",
    "\n",
    "    return begin_string[:size], end_string[:size]\n",
    "\n",
    "\n",
    "# Example usage\n",
    "separator = \"#\"\n",
    "size = 100  # Custom size for the string\n",
    "labels = [\n",
    "    \"CONSTANTS\",\n",
    "    \"GENERAL UTILITARY FUNCTIONS\",\n",
    "    \"GENERAL DEPLOYMENT FUNCTIONS\",\n",
    "    \"STACK DEPLOYMENT FUNCTIONS\",\n",
    "    \"CONFIGURATION VARIABLE\",\n",
    "    \"COMPOSE FILES\",\n",
    "    \"SETUP FUNCTIONS\",\n",
    "]\n",
    "\n",
    "for label in labels:\n",
    "    begin_str, end_str = generate_custom_strings(size, separator, label)\n",
    "\n",
    "    print(begin_str)\n",
    "    print(end_str)\n"
   ]
  },
  {
   "cell_type": "code",
   "execution_count": null,
   "metadata": {},
   "outputs": [],
   "source": []
  }
 ],
 "metadata": {
  "kernelspec": {
   "display_name": "Python 3",
   "language": "python",
   "name": "python3"
  },
  "language_info": {
   "codemirror_mode": {
    "name": "ipython",
    "version": 3
   },
   "file_extension": ".py",
   "mimetype": "text/x-python",
   "name": "python",
   "nbconvert_exporter": "python",
   "pygments_lexer": "ipython3",
   "version": "3.10.12"
  }
 },
 "nbformat": 4,
 "nbformat_minor": 2
}
